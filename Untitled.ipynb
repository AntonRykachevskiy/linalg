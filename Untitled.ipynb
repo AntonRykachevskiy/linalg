{
 "cells": [
  {
   "cell_type": "code",
   "execution_count": 1,
   "metadata": {
    "collapsed": false
   },
   "outputs": [],
   "source": [
    "import numpy as np\n",
    "import skimage.filters as filt\n",
    "import math\n",
    "import os\n",
    "import numpy as np\n",
    "import matplotlib.pyplot as plt\n",
    "from scipy.ndimage.filters import sobel\n",
    "from skimage import transform\n",
    "from skimage import data, io, filters\n",
    "from skimage import img_as_ubyte\n",
    "\n",
    "from TILT import *"
   ]
  },
  {
   "cell_type": "code",
   "execution_count": 2,
   "metadata": {
    "collapsed": false
   },
   "outputs": [],
   "source": [
    "from main import *"
   ]
  },
  {
   "cell_type": "code",
   "execution_count": 57,
   "metadata": {
    "collapsed": false
   },
   "outputs": [],
   "source": [
    "import numpy as np\n",
    "import skimage.filters as filt\n",
    "import math\n",
    "import os\n",
    "import numpy as np\n",
    "import matplotlib.pyplot as plt\n",
    "from scipy.ndimage.filters import sobel\n",
    "from skimage import transform\n",
    "from skimage import data, io, filters\n",
    "from skimage import img_as_ubyte\n",
    "\n",
    "from utils import *\n",
    "\n",
    "def inner_IALM_constraints(Dotau, J, S_J, tol=1e-7, c=1., mu=-5., max_iter=50):\n",
    "    #well shit then I guess I need to check stuff mu=1.25/np.linalg.norm(Dotau)\n",
    "    \"\"\"\n",
    "    inner_IALM_constraints will solve the programming:\n",
    "    min ||A||_*+lambda*||E||_1   s.t.     Dotau+J*delta_tau=A+E and\n",
    "                                          S*delta_tau=0\n",
    "    via the Inexact ALM method.\n",
    "    ---------------------------------input----------------------------------\n",
    "    Dotau:            m-by-n image matrix.\n",
    "    J:                m-by-n-by-p tensor.\n",
    "    S_J:              c-by-p matrix.\n",
    "    inner_para:       parameters.\n",
    "    --------------------------------output----------------------------------\n",
    "    A:                m-by-n matrix, low-rank part.\n",
    "    E:                m-by-n matrix, error part.\n",
    "    delta_tau:        step of tau.\n",
    "    f:                objective funtion value.\n",
    "    \"\"\"\n",
    "\n",
    "    #prep data\n",
    "    #sorry for a bit of bydlokod\n",
    "    #if mu == -5.:\n",
    "    mu=1.25/np.linalg.norm(Dotau, 2)\n",
    "\n",
    "    m, n = Dotau.shape\n",
    "    E = np.zeros((m, n))\n",
    "    A = np.zeros((m, n))\n",
    "    p = J.shape[2]\n",
    "    delta_tau = np.zeros((p,1))\n",
    "\n",
    "    J_vec = np.reshape(J, (m*n,1))#check whether reshape is the same\n",
    "    Jo = J_vec\n",
    "    #print 'J-vec before', J_vec.shape, S_J.shape,\n",
    "\n",
    "    #J_vec = np.asarray([J_vec, S_J]) #plz check here as well, prob use smth else IS THIS TRUE I AM NOT SURE\n",
    "    J_vec = np.vstack((J_vec, S_J))\n",
    "\n",
    "    #print J_vec[:10]\n",
    "\n",
    "    #print J\n",
    "    #print 'Together',\n",
    "    pinv_J_vec = np.linalg.pinv(J_vec)\n",
    "    inner_round = 0\n",
    "    rho = 1.25\n",
    "    lmbda = c / np.sqrt(m)\n",
    "    \n",
    "    Y_1 = Dotau\n",
    "    #print \"Y_1:\\n:\", Y_1\n",
    "    norm_two = np.linalg.norm(Y_1, 2)\n",
    "    norm_inf = np.linalg.norm(Y_1.reshape(m*n, 1), np.inf)/lmbda #there was some mystery, what does norm_inf=norm(Y_1(:), inf)/lambda mean\n",
    "    dual_norm = max(norm_two, norm_inf)\n",
    "    Y_1 = Y_1 / dual_norm;\n",
    "    Y_2 = np.zeros((S_J.shape[0], 1)) #this needs to be checked\n",
    "    d_norm = np.linalg.norm(Dotau, 'fro')\n",
    "    error_sign = 0\n",
    "    #first_f = np.sum(np.linalg.svd(Dotau)) #this is so weird and I don't understand its purpose\n",
    "    #stuff stuff stuff stuff stuff\n",
    "\n",
    "\n",
    "    #print \"2\", norm_two\n",
    "    #print \"inf\", norm_inf\n",
    "    #print \"dual\", dual_norm\n",
    "    #print \"d\", d_norm\n",
    "    \n",
    "    #let's now see what's in the main loop\n",
    "    #ill just initialize stop_criterion to 10tol or something\n",
    "    stop_criterion = 10*tol\n",
    "    #max_iter = 50\n",
    "    while (stop_criterion > tol) and (inner_round < max_iter):\n",
    "\n",
    "        inner_round += 1        \n",
    "        temp_0 = Dotau + np.reshape(np.dot(Jo, delta_tau), (m,n)) + Y_1 / mu\n",
    "        \n",
    "        temp_1 = temp_0 - E\n",
    "        U, S, V = np.linalg.svd(temp_1, full_matrices=False)\n",
    "        S = np.diag(S)\n",
    "        #print \"U\", U\n",
    "        #print \"S\", S\n",
    "        print \"V\", V\n",
    "        shrinkage_S =(S > 1/mu).astype(int) * (S - 1/mu) #because S is non-negative\n",
    "        A = U.dot(shrinkage_S).dot(V)\n",
    "        \n",
    " \n",
    "        #print A.shape\n",
    "        temp_2 = temp_0 - A\n",
    "        E = (temp_2 > lmbda/mu).astype(int) * (temp_2 - lmbda/mu) + (temp_2 < -lmbda/mu).astype(int) * (temp_2 + lmbda/mu)\n",
    "        #here is some MYSTERIOUS f, I do not understand its purpose\n",
    "        temp_3 = A + E - Dotau - Y_1 / mu\n",
    "        temp_3 = np.reshape(temp_3, (m*n,1))\n",
    "        #temp_3 = np.asarray([temp_3, -Y_2/mu]) #CHECK CHECK CHECK CHECK\n",
    "        temp_3 = np.vstack((temp_3, -Y_2/mu))\n",
    "\n",
    "        #print 'ialm',pinv_J_vec,temp_3\n",
    "        delta_tau = pinv_J_vec.dot(temp_3)\n",
    "        derivative_Y_1 = Dotau - A - E + np.reshape(Jo.dot(delta_tau), (m, n))\n",
    "        derivative_Y_2 = S_J.dot(delta_tau)\n",
    "        Y_1 = Y_1 + derivative_Y_1 * mu  #mu is scalar\n",
    "        Y_2 = Y_2 + derivative_Y_2 * mu\n",
    "\n",
    "        stop_criterion=np.sqrt(np.linalg.norm(derivative_Y_1, 'fro')**2 + np.linalg.norm(derivative_Y_2, 2)**2)/d_norm\n",
    "        mu=mu*rho\n",
    "\n",
    "        #there is some mysterious error-catching, I didn't understand that part\n",
    "\n",
    "    return A, E, delta_tau"
   ]
  },
  {
   "cell_type": "code",
   "execution_count": 19,
   "metadata": {
    "collapsed": true
   },
   "outputs": [],
   "source": [
    "J = np.array([[0.0139, -0.0153, 0.1970, 0.2928, 0.0869],\n",
    "     [0.0034, 0, 0.0849, -0.0897, -0.2742], \n",
    "     [-0.2232, -0.0593, -0.0151, -0.1059, 0.0527], \n",
    "     [-0.2070, 0.1313, 0.0458, 0.0456, 0.3924],\n",
    "     [0.0126, 0.2275, -0.1701, -0.3115, 0.0453]]).reshape(5,5,1)\n",
    "S = np.zeros((2,1))"
   ]
  },
  {
   "cell_type": "code",
   "execution_count": 20,
   "metadata": {
    "collapsed": true
   },
   "outputs": [],
   "source": [
    "img = io.imread('ch.png', as_grey=True)"
   ]
  },
  {
   "cell_type": "code",
   "execution_count": 21,
   "metadata": {
    "collapsed": false
   },
   "outputs": [
    {
     "data": {
      "text/plain": [
       "array([[ 255.,    0.,    0.,  255.,  255.],\n",
       "       [   0.,    0.,  255.,  255.,    0.],\n",
       "       [   0.,  255.,  255.,    0.,    0.],\n",
       "       [ 255.,  255.,    0.,    0.,  255.],\n",
       "       [ 255.,    0.,    0.,  255.,  255.]])"
      ]
     },
     "execution_count": 21,
     "metadata": {},
     "output_type": "execute_result"
    }
   ],
   "source": [
    "img * 255"
   ]
  },
  {
   "cell_type": "code",
   "execution_count": 58,
   "metadata": {
    "collapsed": false
   },
   "outputs": [
    {
     "name": "stdout",
     "output_type": "stream",
     "text": [
      "V [[-0.59046012 -0.21519204 -0.11731925 -0.49258733 -0.59046012]\n",
      " [ 0.20402881 -0.52411932 -0.79820745 -0.07005932  0.20402881]\n",
      " [-0.1957052  -0.62711804  0.25176731  0.68318016 -0.1957052 ]\n",
      " [-0.72237151  0.32791392 -0.32791392  0.32791392  0.39445758]\n",
      " [ 0.22272849  0.42212172 -0.42212172  0.42212172 -0.6448502 ]]\n"
     ]
    }
   ],
   "source": [
    "A, E, delta = inner_IALM_constraints(img*255 , J, S, max_iter=1)"
   ]
  },
  {
   "cell_type": "code",
   "execution_count": null,
   "metadata": {
    "collapsed": true
   },
   "outputs": [],
   "source": [
    "plt.imshow(A)\n",
    "plt.show()"
   ]
  },
  {
   "cell_type": "code",
   "execution_count": 60,
   "metadata": {
    "collapsed": false
   },
   "outputs": [
    {
     "data": {
      "text/plain": [
       "array([[  0.        ,   0.        ,   0.        ,   0.        ,   0.        ],\n",
       "       [  0.        ,   0.        ,  89.20036055,  71.66109197,   0.        ],\n",
       "       [  0.        ,  89.20036055,  81.11860698,   0.        ,   0.        ],\n",
       "       [  0.        ,  71.66109197,   0.        ,   0.        ,   0.        ],\n",
       "       [  0.        ,   0.        ,   0.        ,   0.        ,   0.        ]])"
      ]
     },
     "execution_count": 60,
     "metadata": {},
     "output_type": "execute_result"
    }
   ],
   "source": [
    "E"
   ]
  },
  {
   "cell_type": "code",
   "execution_count": 47,
   "metadata": {
    "collapsed": false
   },
   "outputs": [
    {
     "data": {
      "text/plain": [
       "array([[-158.41067856]])"
      ]
     },
     "execution_count": 47,
     "metadata": {},
     "output_type": "execute_result"
    }
   ],
   "source": [
    "delta"
   ]
  },
  {
   "cell_type": "code",
   "execution_count": null,
   "metadata": {
    "collapsed": true
   },
   "outputs": [],
   "source": [
    "DS, Dotau, A, E = TILT(checkie, 'euclidean', init_points)"
   ]
  },
  {
   "cell_type": "code",
   "execution_count": null,
   "metadata": {
    "collapsed": false
   },
   "outputs": [],
   "source": [
    "plt.imshow(DS[15\n",
    "             ])\n",
    "plt.show()"
   ]
  },
  {
   "cell_type": "code",
   "execution_count": null,
   "metadata": {
    "collapsed": false
   },
   "outputs": [],
   "source": [
    "DS"
   ]
  },
  {
   "cell_type": "code",
   "execution_count": null,
   "metadata": {
    "collapsed": true
   },
   "outputs": [],
   "source": [
    "def convolve(image, filter_matrix):\n",
    "    n, m = image.shape\n",
    "    n0, m0 = image.shape\n",
    "    image_with_bounds = np.hstack((np.zeros((n,1)), image, np.zeros((n,1)) ))\n",
    "    n, m = image_with_bounds.shape\n",
    "    image_with_bounds = np.vstack((np.zeros((1,m)), image_with_bounds, np.zeros((1,m))))\n",
    "    n, m = image_with_bounds.shape\n",
    "    \n",
    "    convolved = np.zeros((n0,m0))\n",
    "    \n",
    "    for i in range(n0):\n",
    "        for j in range(m0):\n",
    "            convolved[i][j] = np.sum(filter_matrix * image_with_bounds[i:i+3, j:j+3])\n",
    "    \n",
    "    return convolved"
   ]
  },
  {
   "cell_type": "code",
   "execution_count": null,
   "metadata": {
    "collapsed": false
   },
   "outputs": [],
   "source": [
    "sobel = np.array([[1,2,1], \n",
    "                 [0,0,0],\n",
    "                 [-1,-2,-1]])\n",
    "\n",
    "convolve(np.array([[1,2,3],[4,5,6],[7,8,9]]), sobel)"
   ]
  },
  {
   "cell_type": "code",
   "execution_count": null,
   "metadata": {
    "collapsed": false
   },
   "outputs": [],
   "source": [
    "c = io.imread('tiny_check.jpg', as_gray = True)"
   ]
  },
  {
   "cell_type": "code",
   "execution_count": null,
   "metadata": {
    "collapsed": false
   },
   "outputs": [],
   "source": [
    "check.shape"
   ]
  },
  {
   "cell_type": "code",
   "execution_count": null,
   "metadata": {
    "collapsed": false
   },
   "outputs": [],
   "source": [
    "plt.imshow(img[2:,:] - img[:-2, :], cmap='gray')\n",
    "plt.show()"
   ]
  },
  {
   "cell_type": "code",
   "execution_count": null,
   "metadata": {
    "collapsed": false
   },
   "outputs": [],
   "source": [
    "c = convolve(check[:,:], sobel.T)"
   ]
  },
  {
   "cell_type": "code",
   "execution_count": null,
   "metadata": {
    "collapsed": false
   },
   "outputs": [],
   "source": [
    "np.amin(c)"
   ]
  },
  {
   "cell_type": "code",
   "execution_count": null,
   "metadata": {
    "collapsed": false
   },
   "outputs": [],
   "source": [
    "np.amax(c)"
   ]
  },
  {
   "cell_type": "code",
   "execution_count": null,
   "metadata": {
    "collapsed": true
   },
   "outputs": [],
   "source": [
    "c = np.abs(c)"
   ]
  },
  {
   "cell_type": "code",
   "execution_count": null,
   "metadata": {
    "collapsed": false
   },
   "outputs": [],
   "source": [
    "c = img_as_ubyte(c)"
   ]
  },
  {
   "cell_type": "code",
   "execution_count": null,
   "metadata": {
    "collapsed": true
   },
   "outputs": [],
   "source": [
    "f = open('a.txt', 'w')\n",
    "for i in range(50):\n",
    "    for j in range(50):\n",
    "        f.write(str(c[i][j]))\n",
    "        f.write(' ')\n",
    "    f.write('\\n')\n",
    "f.close()"
   ]
  },
  {
   "cell_type": "code",
   "execution_count": null,
   "metadata": {
    "collapsed": false
   },
   "outputs": [],
   "source": [
    "img = np.zeros((50,50))\n",
    "f = open('a.txt', 'r')\n",
    "for i in range(50):\n",
    "    img[i,:] = np.array(map(float, f.readline().split()))\n",
    "f.close()"
   ]
  },
  {
   "cell_type": "code",
   "execution_count": null,
   "metadata": {
    "collapsed": false
   },
   "outputs": [],
   "source": [
    "plt.imshow(c)\n",
    "plt.show()"
   ]
  },
  {
   "cell_type": "code",
   "execution_count": null,
   "metadata": {
    "collapsed": false
   },
   "outputs": [],
   "source": [
    "np.all(c == img)"
   ]
  },
  {
   "cell_type": "code",
   "execution_count": null,
   "metadata": {
    "collapsed": false,
    "scrolled": true
   },
   "outputs": [],
   "source": [
    "img"
   ]
  },
  {
   "cell_type": "code",
   "execution_count": null,
   "metadata": {
    "collapsed": false
   },
   "outputs": [],
   "source": [
    "c"
   ]
  },
  {
   "cell_type": "code",
   "execution_count": null,
   "metadata": {
    "collapsed": true
   },
   "outputs": [],
   "source": [
    "from skimage import exposure"
   ]
  },
  {
   "cell_type": "code",
   "execution_count": null,
   "metadata": {
    "collapsed": false
   },
   "outputs": [],
   "source": [
    "c = exposure.rescale_intensity(c, out_range=(0, 255))\n",
    "c = img_as_ubyte(c)"
   ]
  },
  {
   "cell_type": "code",
   "execution_count": null,
   "metadata": {
    "collapsed": false
   },
   "outputs": [],
   "source": []
  },
  {
   "cell_type": "code",
   "execution_count": null,
   "metadata": {
    "collapsed": true
   },
   "outputs": [],
   "source": [
    "t = 0.5\n",
    "tfm = np.array([[np.cos(t), -np.sin(t), 0], [np.sin(t), np.cos(t), 0], [0,0,1]])"
   ]
  },
  {
   "cell_type": "code",
   "execution_count": null,
   "metadata": {
    "collapsed": true
   },
   "outputs": [],
   "source": [
    "from skimage import transform"
   ]
  },
  {
   "cell_type": "code",
   "execution_count": null,
   "metadata": {
    "collapsed": false
   },
   "outputs": [],
   "source": [
    "trans = transform.SimilarityTransform(tfm)\n",
    "imgt = transform.warp(img, trans)"
   ]
  },
  {
   "cell_type": "code",
   "execution_count": null,
   "metadata": {
    "collapsed": true
   },
   "outputs": [],
   "source": [
    "plt.imshow(imgt)\n",
    "plt.show()"
   ]
  },
  {
   "cell_type": "code",
   "execution_count": null,
   "metadata": {
    "collapsed": false
   },
   "outputs": [],
   "source": [
    "c"
   ]
  },
  {
   "cell_type": "code",
   "execution_count": null,
   "metadata": {
    "collapsed": true
   },
   "outputs": [],
   "source": [
    "%matplotlib inline"
   ]
  },
  {
   "cell_type": "code",
   "execution_count": null,
   "metadata": {
    "collapsed": false
   },
   "outputs": [],
   "source": [
    "t = 0.5\n",
    "tfm_matrix = np.array([[np.cos(t), -np.sin(t), 0],\n",
    "                       [np.sin(t), np.cos(t), 0],\n",
    "                      [0, 0, 1]])\n",
    "\n",
    "trfrm = transform.SimilarityTransform(tfm_matrix)\n",
    "Dotau = transform.warp(c, trfrm)"
   ]
  },
  {
   "cell_type": "code",
   "execution_count": null,
   "metadata": {
    "collapsed": true
   },
   "outputs": [],
   "source": [
    "plt.imshow(Dotau)\n",
    "plt.show()"
   ]
  },
  {
   "cell_type": "code",
   "execution_count": null,
   "metadata": {
    "collapsed": true
   },
   "outputs": [],
   "source": [
    "from scipy.ndimage import rotate, zoom"
   ]
  },
  {
   "cell_type": "code",
   "execution_count": null,
   "metadata": {
    "collapsed": false
   },
   "outputs": [],
   "source": [
    "t"
   ]
  },
  {
   "cell_type": "code",
   "execution_count": null,
   "metadata": {
    "collapsed": false
   },
   "outputs": [],
   "source": [
    "a = affine_transform(c, tfm_matrix[:2, :2])"
   ]
  },
  {
   "cell_type": "code",
   "execution_count": null,
   "metadata": {
    "collapsed": false
   },
   "outputs": [],
   "source": [
    "plt.imshow(a, )\n",
    "plt.show()"
   ]
  },
  {
   "cell_type": "code",
   "execution_count": null,
   "metadata": {
    "collapsed": false
   },
   "outputs": [],
   "source": [
    "plt.imshow(c)\n",
    "plt.show()"
   ]
  },
  {
   "cell_type": "code",
   "execution_count": null,
   "metadata": {
    "collapsed": true
   },
   "outputs": [],
   "source": []
  }
 ],
 "metadata": {
  "kernelspec": {
   "display_name": "Python 2",
   "language": "python",
   "name": "python2"
  },
  "language_info": {
   "codemirror_mode": {
    "name": "ipython",
    "version": 2
   },
   "file_extension": ".py",
   "mimetype": "text/x-python",
   "name": "python",
   "nbconvert_exporter": "python",
   "pygments_lexer": "ipython2",
   "version": "2.7.12"
  }
 },
 "nbformat": 4,
 "nbformat_minor": 0
}
